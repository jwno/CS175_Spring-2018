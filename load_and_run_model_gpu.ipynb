{
 "cells": [
  {
   "cell_type": "code",
   "execution_count": 3,
   "metadata": {},
   "outputs": [],
   "source": [
    "import torch\n",
    "import torchvision\n",
    "import torch.nn as nn\n",
    "import copy\n",
    "import torch.optim as optim\n",
    "from torch.autograd import Variable\n",
    "from torch.utils.data import DataLoader\n",
    "from torch.utils.data import sampler\n",
    "import matplotlib.pyplot as plt\n",
    "\n",
    "import torchvision.datasets as dset\n",
    "import torchvision.transforms as transforms\n",
    "\n",
    "import numpy as np\n",
    "\n",
    "import timeit"
   ]
  },
  {
   "cell_type": "code",
   "execution_count": 4,
   "metadata": {},
   "outputs": [],
   "source": [
    "gpu_dtype = torch.cuda.FloatTensor"
   ]
  },
  {
   "cell_type": "code",
   "execution_count": 5,
   "metadata": {},
   "outputs": [],
   "source": [
    "class Flatten(nn.Module):\n",
    "    def forward(self, x):\n",
    "        N, C, H, W = x.size() # read in N, C, H, W\n",
    "        return x.view(N, -1)  # \"flatten\" the C * H * W values into a single vector per image"
   ]
  },
  {
   "cell_type": "code",
   "execution_count": 6,
   "metadata": {},
   "outputs": [],
   "source": [
    "fixed_model_base = nn.Sequential(\n",
    "                nn.Conv2d(3,32,kernel_size=7,stride=1),\n",
    "                nn.ReLU(inplace=True),\n",
    "                nn.BatchNorm2d(32),\n",
    "                nn.MaxPool2d(kernel_size=2,stride=2),\n",
    "                Flatten(),\n",
    "                nn.Linear(5408,1024),\n",
    "                nn.ReLU(inplace=True),\n",
    "                nn.Linear(1024,2)\n",
    "            )\n",
    "\n",
    "fixed_model = fixed_model_base.type(gpu_dtype)\n",
    "fixed_model2 = copy.deepcopy(fixed_model_base).type(gpu_dtype)"
   ]
  },
  {
   "cell_type": "code",
   "execution_count": 7,
   "metadata": {},
   "outputs": [],
   "source": [
    "fixed_model.load_state_dict(torch.load(\"left_right_model_gpu\"))\n",
    "fixed_model2.load_state_dict(torch.load(\"open_closed_model_gpu\"))"
   ]
  },
  {
   "cell_type": "code",
   "execution_count": 8,
   "metadata": {},
   "outputs": [
    {
     "name": "stderr",
     "output_type": "stream",
     "text": [
      "C:\\ProgramData\\Anaconda3\\lib\\site-packages\\torchvision\\transforms\\transforms.py:188: UserWarning: The use of the transforms.Scale transform is deprecated, please use transforms.Resize instead.\n",
      "  \"please use transforms.Resize instead.\")\n"
     ]
    }
   ],
   "source": [
    "transform = transforms.Compose(\n",
    "    [transforms.Scale((32,32)),\n",
    "     transforms.ToTensor(),\n",
    "     transforms.Normalize((0.5,0.5,0.5),(0.5,0.5,0.5))\n",
    "    ])"
   ]
  },
  {
   "cell_type": "code",
   "execution_count": 9,
   "metadata": {},
   "outputs": [],
   "source": [
    "testset = dset.ImageFolder(root='right_left_test',transform=transform)\n",
    "testloader = torch.utils.data.DataLoader(testset,batch_size=4,shuffle=True,num_workers=2)\n",
    "\n",
    "testset2 = dset.ImageFolder(root='open_closed_test',transform=transform)\n",
    "testloader2 = torch.utils.data.DataLoader(testset2,batch_size=4,shuffle=True,num_workers=2)"
   ]
  },
  {
   "cell_type": "code",
   "execution_count": 10,
   "metadata": {},
   "outputs": [],
   "source": [
    "def imshow(img):\n",
    "    img = img / 2 + 0.5     # unnormalize\n",
    "    npimg = img.numpy()\n",
    "    plt.imshow(np.transpose(npimg, (1, 2, 0)))\n",
    "    \n",
    "def display_class(labels):\n",
    "    classes = []\n",
    "    for label in labels:\n",
    "        if label == 0:\n",
    "            classes.append(\"left\")\n",
    "        elif label == 1:\n",
    "            classes.append(\"right\")\n",
    "    return classes\n",
    "\n",
    "def display_class2(labels):\n",
    "    classes = []\n",
    "    for label in labels:\n",
    "        if label == 0:\n",
    "            classes.append(\"closed\")\n",
    "        elif label == 1:\n",
    "            classes.append(\"open\")\n",
    "    return classes"
   ]
  },
  {
   "cell_type": "code",
   "execution_count": 11,
   "metadata": {},
   "outputs": [
    {
     "name": "stdout",
     "output_type": "stream",
     "text": [
      "<class 'torch.Tensor'>\n"
     ]
    },
    {
     "name": "stderr",
     "output_type": "stream",
     "text": [
      "C:\\ProgramData\\Anaconda3\\lib\\site-packages\\ipykernel_launcher.py:6: UserWarning: volatile was removed and now has no effect. Use `with torch.no_grad():` instead.\n",
      "  \n"
     ]
    },
    {
     "name": "stdout",
     "output_type": "stream",
     "text": [
      "preds:  tensor([ 0,  1,  0,  0])\n",
      "preds: ['left', 'right', 'left', 'left']\n",
      "actual:  ['left', 'right', 'left', 'left']\n",
      "\n",
      "preds2: tensor([ 1,  1,  1,  1])\n",
      "preds2: ['open', 'open', 'open', 'open']\n",
      "\n",
      "<class 'torch.Tensor'>\n"
     ]
    },
    {
     "data": {
      "image/png": "[encoded data removed]",
      "text/plain": [
       "<Figure size 432x288 with 1 Axes>"
      ]
     },
     "metadata": {},
     "output_type": "display_data"
    }
   ],
   "source": [
    "count = 0\n",
    "for x, y in testloader:\n",
    "        print(type(x))\n",
    "        if count == 1:\n",
    "            break\n",
    "        x_var = Variable(x.type(gpu_dtype), volatile=True)\n",
    "\n",
    "        scores = fixed_model(x_var)\n",
    "        _, preds = scores.data.cpu().max(1)\n",
    "        \n",
    "        imshow(torchvision.utils.make_grid(x))\n",
    "        print(\"preds: \" , preds)\n",
    "        #print(\"x: \", x)\n",
    "        print(\"preds:\", display_class(preds))\n",
    "        print(\"actual: \", display_class(y))\n",
    "        \n",
    "        \n",
    "        print()\n",
    "        scores2 = fixed_model2(x_var)\n",
    "        _, preds2 = scores2.data.cpu().max(1)\n",
    "        \n",
    "        print(\"preds2:\", preds2)\n",
    "        print(\"preds2:\", display_class2(preds2))\n",
    "       \n",
    "        print()\n",
    "        \n",
    "        #num_correct += (preds == y).sum()\n",
    "        #num_samples += preds.size(0)\n",
    "        count += 1"
   ]
  },
  {
   "cell_type": "code",
   "execution_count": 12,
   "metadata": {},
   "outputs": [
    {
     "name": "stderr",
     "output_type": "stream",
     "text": [
      "C:\\ProgramData\\Anaconda3\\lib\\site-packages\\ipykernel_launcher.py:5: UserWarning: volatile was removed and now has no effect. Use `with torch.no_grad():` instead.\n",
      "  \"\"\"\n"
     ]
    },
    {
     "name": "stdout",
     "output_type": "stream",
     "text": [
      "\n",
      "preds:  tensor([ 0,  1,  0,  0])\n",
      "preds: ['left', 'right', 'left', 'left']\n",
      "\n",
      "preds2: ['open', 'closed', 'open', 'open']\n",
      "preds2: tensor([ 1,  0,  1,  1])\n",
      "actual:  ['open', 'closed', 'open', 'open']\n"
     ]
    },
    {
     "data": {
      "image/png": "[encoded data removed]",
      "text/plain": [
       "<Figure size 432x288 with 1 Axes>"
      ]
     },
     "metadata": {},
     "output_type": "display_data"
    }
   ],
   "source": [
    "count = 0\n",
    "for x, y in testloader2:\n",
    "        if count == 1:\n",
    "            break\n",
    "        x_var = Variable(x.type(gpu_dtype), volatile=True)\n",
    "        \n",
    "        scores = fixed_model(x_var)\n",
    "        _, preds = scores.data.cpu().max(1)\n",
    "        \n",
    "        scores2 = fixed_model2(x_var)\n",
    "        _, preds2 = scores2.data.cpu().max(1)\n",
    "        \n",
    "        print()\n",
    "        print(\"preds: \" , preds)\n",
    "        print(\"preds:\", display_class(preds))\n",
    "        print()\n",
    "        \n",
    "        print(\"preds2:\", display_class2(preds2))\n",
    "        print(\"preds2:\", preds2)\n",
    "        print(\"actual: \", display_class2(y))\n",
    "        \n",
    "        \n",
    "        imshow(torchvision.utils.make_grid(x))\n",
    "     \n",
    "        #num_correct += (preds == y).sum()\n",
    "        #num_samples += preds.size(0)\n",
    "        count += 1"
   ]
  }
 ],
 "metadata": {
  "kernelspec": {
   "display_name": "Python 3",
   "language": "python",
   "name": "python3"
  },
  "language_info": {
   "codemirror_mode": {
    "name": "ipython",
    "version": 3
   },
   "file_extension": ".py",
   "mimetype": "text/x-python",
   "name": "python",
   "nbconvert_exporter": "python",
   "pygments_lexer": "ipython3",
   "version": "3.5.5"
  }
 },
 "nbformat": 4,
 "nbformat_minor": 2
}
