{
 "cells": [
  {
   "cell_type": "code",
   "execution_count": 33,
   "metadata": {},
   "outputs": [],
   "source": [
    "import torch\n",
    "import torchvision\n",
    "import torch.nn as nn\n",
    "import copy\n",
    "import torch.optim as optim\n",
    "from torch.autograd import Variable\n",
    "from torch.utils.data import DataLoader\n",
    "from torch.utils.data import sampler\n",
    "import matplotlib.pyplot as plt\n",
    "\n",
    "import torchvision.datasets as dset\n",
    "import torchvision.transforms as transforms\n",
    "\n",
    "import numpy as np\n",
    "\n",
    "import timeit"
   ]
  },
  {
   "cell_type": "code",
   "execution_count": 34,
   "metadata": {},
   "outputs": [
    {
     "name": "stderr",
     "output_type": "stream",
     "text": [
      "C:\\ProgramData\\Anaconda3\\lib\\site-packages\\torchvision\\transforms\\transforms.py:188: UserWarning: The use of the transforms.Scale transform is deprecated, please use transforms.Resize instead.\n",
      "  \"please use transforms.Resize instead.\")\n"
     ]
    }
   ],
   "source": [
    "transform = transforms.Compose(\n",
    "    [transforms.Scale((32,32)),\n",
    "     transforms.ToTensor(),\n",
    "     transforms.Normalize((0.5,0.5,0.5),(0.5,0.5,0.5))\n",
    "    ])\n",
    "\n",
    "trainset = dset.ImageFolder(root=\"right_left_train\",transform=transform)\n",
    "trainloader = torch.utils.data.DataLoader(trainset,batch_size=4,shuffle=True,num_workers=2)\n",
    "\n",
    "testset = dset.ImageFolder(root='right_left_test',transform=transform)\n",
    "testloader = torch.utils.data.DataLoader(testset,batch_size=4,shuffle=True,num_workers=2)\n",
    "        "
   ]
  },
  {
   "cell_type": "code",
   "execution_count": 35,
   "metadata": {},
   "outputs": [],
   "source": [
    "trainset2 = dset.ImageFolder(root=\"open_closed_train\",transform=transform)\n",
    "trainloader2 = torch.utils.data.DataLoader(trainset2,batch_size=4,shuffle=True,num_workers=2)\n",
    "\n",
    "testset2 = dset.ImageFolder(root='open_closed_test',transform=transform)\n",
    "testloader2 = torch.utils.data.DataLoader(testset2,batch_size=4,shuffle=True,num_workers=2)"
   ]
  },
  {
   "cell_type": "code",
   "execution_count": 36,
   "metadata": {},
   "outputs": [],
   "source": [
    "gpu_dtype = torch.cuda.FloatTensor"
   ]
  },
  {
   "cell_type": "code",
   "execution_count": 37,
   "metadata": {},
   "outputs": [],
   "source": [
    "class Flatten(nn.Module):\n",
    "    def forward(self, x):\n",
    "        N, C, H, W = x.size() # read in N, C, H, W\n",
    "        return x.view(N, -1)  # \"flatten\" the C * H * W values into a single vector per image"
   ]
  },
  {
   "cell_type": "code",
   "execution_count": 38,
   "metadata": {},
   "outputs": [],
   "source": [
    "fixed_model_base = nn.Sequential(\n",
    "                nn.Conv2d(3,32,kernel_size=7,stride=1),\n",
    "                nn.ReLU(inplace=True),\n",
    "                nn.BatchNorm2d(32),\n",
    "                nn.MaxPool2d(kernel_size=2,stride=2),\n",
    "                Flatten(),\n",
    "                nn.Linear(5408,1024),\n",
    "                nn.ReLU(inplace=True),\n",
    "                nn.Linear(1024,2)\n",
    "            )\n",
    "\n",
    "fixed_model_gpu = fixed_model_base.type(gpu_dtype)\n",
    "fixed_model2_gpu = copy.deepcopy(fixed_model_base).type(gpu_dtype)"
   ]
  },
  {
   "cell_type": "code",
   "execution_count": 39,
   "metadata": {},
   "outputs": [
    {
     "data": {
      "text/plain": [
       "True"
      ]
     },
     "execution_count": 39,
     "metadata": {},
     "output_type": "execute_result"
    }
   ],
   "source": [
    "## Now we're going to feed a random batch into the model you defined and make sure the output is the right size\n",
    "x_gpu = torch.randn(64, 3, 32, 32).type(gpu_dtype)\n",
    "x_var_gpu = Variable(x_gpu.type(gpu_dtype)) # Construct a PyTorch Variable out of your input data\n",
    "ans = fixed_model_gpu(x_var_gpu)        # Feed it through the model! \n",
    "\n",
    "# Check to make sure what comes out of your model\n",
    "# is the right dimensionality... this should be True\n",
    "# if you've done everything correctly\n",
    "np.array_equal(np.array(ans.size()), np.array([64, 2]))    "
   ]
  },
  {
   "cell_type": "code",
   "execution_count": 40,
   "metadata": {
    "scrolled": true
   },
   "outputs": [],
   "source": [
    "loss_fn = nn.CrossEntropyLoss().type(gpu_dtype)\n",
    "optimizer = optim.RMSprop(fixed_model_gpu.parameters(), lr=1e-2) \n",
    "#optimizer = optim.Adam(fixed_model.parameters(), lr=1e-2) \n",
    "\n",
    "loss_fn2 = nn.CrossEntropyLoss().type(gpu_dtype)\n",
    "#optimizer2 = optim.RMSprop(fixed_model2.parameters(), lr=1e-2) \n",
    "optimizer2 = optim.Adam(fixed_model2_gpu.parameters(), lr=1e-2)\n",
    "\n",
    "print_every = 100\n",
    "\n",
    "def reset(m):\n",
    "    if hasattr(m, 'reset_parameters'):\n",
    "        m.reset_parameters()"
   ]
  },
  {
   "cell_type": "code",
   "execution_count": 41,
   "metadata": {},
   "outputs": [],
   "source": [
    "def train(model, loss_fn, optimizer, trainloader, num_epochs = 1):\n",
    "    for epoch in range(num_epochs):\n",
    "        print('Starting epoch %d / %d' % (epoch + 1, num_epochs))\n",
    "        model.train()\n",
    "        for t, (x, y) in enumerate(trainloader):\n",
    "            x_var = Variable(x.type(gpu_dtype))\n",
    "            y_var = Variable(y.type(gpu_dtype).long())\n",
    "\n",
    "            scores = model(x_var)\n",
    "            \n",
    "            loss = loss_fn(scores, y_var)\n",
    "            if (t + 1) % print_every == 0:\n",
    "                print('t = %d, loss = %.4f' % (t + 1, loss.data[0]))\n",
    "\n",
    "            optimizer.zero_grad()\n",
    "            loss.backward()\n",
    "            optimizer.step()\n"
   ]
  },
  {
   "cell_type": "code",
   "execution_count": 42,
   "metadata": {},
   "outputs": [],
   "source": [
    "def check_accuracy(model, loader):\n",
    "    #if loader.dataset.train:\n",
    "    #    print('Checking accuracy on validation set')\n",
    "    #else:\n",
    "    #    print('Checking accuracy on test set')   \n",
    "    num_correct = 0\n",
    "    num_samples = 0\n",
    "    model.eval() # Put the model in test mode (the opposite of model.train(), essentially)\n",
    "    for x, y in loader:\n",
    "        x_var = Variable(x.type(gpu_dtype), volatile=True)\n",
    "\n",
    "        scores = model(x_var)\n",
    "        _, preds = scores.data.cpu().max(1)\n",
    "        num_correct += (preds == y).sum()\n",
    "        num_samples += preds.size(0)\n",
    "    acc = float(num_correct) / num_samples\n",
    "    print('Got %d / %d correct (%.2f)' % (num_correct, num_samples, 100 * acc))"
   ]
  },
  {
   "cell_type": "code",
   "execution_count": 43,
   "metadata": {},
   "outputs": [
    {
     "name": "stdout",
     "output_type": "stream",
     "text": [
      "Starting epoch 1 / 5\n"
     ]
    },
    {
     "name": "stderr",
     "output_type": "stream",
     "text": [
      "C:\\ProgramData\\Anaconda3\\lib\\site-packages\\ipykernel_launcher.py:13: UserWarning: invalid index of a 0-dim tensor. This will be an error in PyTorch 0.5. Use tensor.item() to convert a 0-dim tensor to a Python number\n",
      "  del sys.path[0]\n"
     ]
    },
    {
     "name": "stdout",
     "output_type": "stream",
     "text": [
      "t = 100, loss = 0.3827\n",
      "t = 200, loss = 12.0341\n",
      "t = 300, loss = 0.1694\n",
      "t = 400, loss = 5.1646\n",
      "t = 500, loss = 0.0000\n",
      "Starting epoch 2 / 5\n",
      "t = 100, loss = 0.0001\n",
      "t = 200, loss = 0.0000\n",
      "t = 300, loss = 0.0945\n",
      "t = 400, loss = 0.0000\n",
      "t = 500, loss = 0.0000\n",
      "Starting epoch 3 / 5\n",
      "t = 100, loss = 0.0000\n",
      "t = 200, loss = 3.5410\n",
      "t = 300, loss = 0.0000\n",
      "t = 400, loss = 2.8312\n",
      "t = 500, loss = 0.0000\n",
      "Starting epoch 4 / 5\n",
      "t = 100, loss = 0.0000\n",
      "t = 200, loss = 0.0000\n",
      "t = 300, loss = 0.0000\n",
      "t = 400, loss = 0.0002\n",
      "t = 500, loss = 0.0000\n",
      "Starting epoch 5 / 5\n",
      "t = 100, loss = 0.0000\n",
      "t = 200, loss = 0.0000\n",
      "t = 300, loss = 0.0000\n",
      "t = 400, loss = 0.0000\n",
      "t = 500, loss = 0.0000\n"
     ]
    },
    {
     "name": "stderr",
     "output_type": "stream",
     "text": [
      "C:\\ProgramData\\Anaconda3\\lib\\site-packages\\ipykernel_launcher.py:10: UserWarning: volatile was removed and now has no effect. Use `with torch.no_grad():` instead.\n",
      "  # Remove the CWD from sys.path while we load stuff.\n"
     ]
    },
    {
     "name": "stdout",
     "output_type": "stream",
     "text": [
      "Got 819 / 820 correct (99.88)\n"
     ]
    }
   ],
   "source": [
    "torch.cuda.random.manual_seed(12345)\n",
    "fixed_model_gpu.apply(reset)\n",
    "train(fixed_model_gpu, loss_fn, optimizer, trainloader,num_epochs=5)\n",
    "check_accuracy(fixed_model_gpu, testloader)"
   ]
  },
  {
   "cell_type": "code",
   "execution_count": 44,
   "metadata": {},
   "outputs": [
    {
     "name": "stdout",
     "output_type": "stream",
     "text": [
      "Starting epoch 1 / 5\n"
     ]
    },
    {
     "name": "stderr",
     "output_type": "stream",
     "text": [
      "C:\\ProgramData\\Anaconda3\\lib\\site-packages\\ipykernel_launcher.py:13: UserWarning: invalid index of a 0-dim tensor. This will be an error in PyTorch 0.5. Use tensor.item() to convert a 0-dim tensor to a Python number\n",
      "  del sys.path[0]\n"
     ]
    },
    {
     "name": "stdout",
     "output_type": "stream",
     "text": [
      "t = 100, loss = 0.0027\n",
      "t = 200, loss = 0.3502\n",
      "t = 300, loss = 0.0476\n",
      "t = 400, loss = 0.0019\n",
      "t = 500, loss = 0.0012\n",
      "t = 600, loss = 0.0411\n",
      "Starting epoch 2 / 5\n",
      "t = 100, loss = 0.3736\n",
      "t = 200, loss = 0.0000\n",
      "t = 300, loss = 0.0193\n",
      "t = 400, loss = 0.1075\n",
      "t = 500, loss = 0.1438\n",
      "t = 600, loss = 0.7191\n",
      "Starting epoch 3 / 5\n",
      "t = 100, loss = 0.9619\n",
      "t = 200, loss = 0.3206\n",
      "t = 300, loss = 0.2708\n",
      "t = 400, loss = 0.0001\n",
      "t = 500, loss = 0.0034\n",
      "t = 600, loss = 0.2588\n",
      "Starting epoch 4 / 5\n",
      "t = 100, loss = 0.7113\n",
      "t = 200, loss = 0.0123\n",
      "t = 300, loss = 0.0008\n",
      "t = 400, loss = 0.0000\n",
      "t = 500, loss = 0.0236\n",
      "t = 600, loss = 0.0003\n",
      "Starting epoch 5 / 5\n",
      "t = 100, loss = 0.0711\n",
      "t = 200, loss = 0.0588\n",
      "t = 300, loss = 0.0015\n",
      "t = 400, loss = 0.0244\n",
      "t = 500, loss = 0.0541\n",
      "t = 600, loss = 0.2184\n"
     ]
    },
    {
     "name": "stderr",
     "output_type": "stream",
     "text": [
      "C:\\ProgramData\\Anaconda3\\lib\\site-packages\\ipykernel_launcher.py:10: UserWarning: volatile was removed and now has no effect. Use `with torch.no_grad():` instead.\n",
      "  # Remove the CWD from sys.path while we load stuff.\n"
     ]
    },
    {
     "name": "stdout",
     "output_type": "stream",
     "text": [
      "Got 614 / 628 correct (97.77)\n"
     ]
    }
   ],
   "source": [
    "torch.cuda.random.manual_seed(12345)\n",
    "fixed_model2_gpu.apply(reset)\n",
    "train(fixed_model2_gpu, loss_fn2, optimizer2, trainloader2, num_epochs=5)\n",
    "check_accuracy(fixed_model2_gpu, testloader2)"
   ]
  },
  {
   "cell_type": "code",
   "execution_count": 45,
   "metadata": {},
   "outputs": [],
   "source": [
    "def imshow(img):\n",
    "    img = img / 2 + 0.5     # unnormalize\n",
    "    npimg = img.numpy()\n",
    "    plt.imshow(np.transpose(npimg, (1, 2, 0)))\n",
    "    \n",
    "def display_class(labels):\n",
    "    classes = []\n",
    "    for label in labels:\n",
    "        if label == 0:\n",
    "            classes.append(\"left\")\n",
    "        elif label == 1:\n",
    "            classes.append(\"right\")\n",
    "    return classes\n",
    "\n",
    "def display_class2(labels):\n",
    "    classes = []\n",
    "    for label in labels:\n",
    "        if label == 0:\n",
    "            classes.append(\"closed\")\n",
    "        elif label == 1:\n",
    "            classes.append(\"open\")\n",
    "    return classes"
   ]
  },
  {
   "cell_type": "code",
   "execution_count": 46,
   "metadata": {},
   "outputs": [
    {
     "name": "stderr",
     "output_type": "stream",
     "text": [
      "C:\\ProgramData\\Anaconda3\\lib\\site-packages\\ipykernel_launcher.py:5: UserWarning: volatile was removed and now has no effect. Use `with torch.no_grad():` instead.\n",
      "  \"\"\"\n"
     ]
    },
    {
     "name": "stdout",
     "output_type": "stream",
     "text": [
      "preds:  tensor([ 1,  0,  1,  0])\n",
      "preds: ['right', 'left', 'right', 'left']\n",
      "actual:  ['right', 'left', 'right', 'left']\n",
      "\n",
      "preds2: tensor([ 1,  1,  1,  1])\n",
      "preds2: ['open', 'open', 'open', 'open']\n",
      "\n"
     ]
    },
    {
     "data": {
      "image/png": "[encoded data removed]",
      "text/plain": [
       "<Figure size 432x288 with 1 Axes>"
      ]
     },
     "metadata": {},
     "output_type": "display_data"
    }
   ],
   "source": [
    "count = 0\n",
    "for x, y in testloader:\n",
    "        if count == 1:\n",
    "            break\n",
    "        x_var = Variable(x.type(gpu_dtype), volatile=True)\n",
    "\n",
    "        scores = fixed_model_gpu(x_var)\n",
    "        _, preds = scores.data.cpu().max(1)\n",
    "        \n",
    "        imshow(torchvision.utils.make_grid(x))\n",
    "        print(\"preds: \" , preds)\n",
    "        #print(\"x: \", x)\n",
    "        print(\"preds:\", display_class(preds))\n",
    "        print(\"actual: \", display_class(y))\n",
    "        \n",
    "        \n",
    "        print()\n",
    "        scores2 = fixed_model2_gpu(x_var)\n",
    "        _, preds2 = scores2.data.cpu().max(1)\n",
    "        \n",
    "        print(\"preds2:\", preds2)\n",
    "        print(\"preds2:\", display_class2(preds2))\n",
    "       \n",
    "        print()\n",
    "        \n",
    "        #num_correct += (preds == y).sum()\n",
    "        #num_samples += preds.size(0)\n",
    "        count += 1\n",
    "    "
   ]
  },
  {
   "cell_type": "code",
   "execution_count": 47,
   "metadata": {},
   "outputs": [
    {
     "name": "stderr",
     "output_type": "stream",
     "text": [
      "C:\\ProgramData\\Anaconda3\\lib\\site-packages\\ipykernel_launcher.py:5: UserWarning: volatile was removed and now has no effect. Use `with torch.no_grad():` instead.\n",
      "  \"\"\"\n"
     ]
    },
    {
     "name": "stdout",
     "output_type": "stream",
     "text": [
      "\n",
      "preds:  tensor([ 1,  1,  0,  1])\n",
      "preds: ['right', 'right', 'left', 'right']\n",
      "\n",
      "preds2: ['closed', 'open', 'open', 'open']\n",
      "preds2: tensor([ 0,  1,  1,  1])\n",
      "actual:  ['closed', 'open', 'open', 'open']\n"
     ]
    },
    {
     "data": {
      "image/png": "[encoded data removed]",
      "text/plain": [
       "<Figure size 432x288 with 1 Axes>"
      ]
     },
     "metadata": {},
     "output_type": "display_data"
    }
   ],
   "source": [
    "count = 0\n",
    "for x, y in testloader2:\n",
    "        if count == 1:\n",
    "            break\n",
    "        x_var = Variable(x.type(gpu_dtype), volatile=True)\n",
    "        \n",
    "        scores = fixed_model_gpu(x_var)\n",
    "        _, preds = scores.data.cpu().max(1)\n",
    "        \n",
    "        scores2 = fixed_model2_gpu(x_var)\n",
    "        _, preds2 = scores2.data.cpu().max(1)\n",
    "        \n",
    "        print()\n",
    "        print(\"preds: \" , preds)\n",
    "        print(\"preds:\", display_class(preds))\n",
    "        print()\n",
    "        \n",
    "        print(\"preds2:\", display_class2(preds2))\n",
    "        print(\"preds2:\", preds2)\n",
    "        print(\"actual: \", display_class2(y))\n",
    "        \n",
    "        \n",
    "        imshow(torchvision.utils.make_grid(x))\n",
    "     \n",
    "        #num_correct += (preds == y).sum()\n",
    "        #num_samples += preds.size(0)\n",
    "        count += 1"
   ]
  },
  {
   "cell_type": "code",
   "execution_count": 49,
   "metadata": {},
   "outputs": [],
   "source": [
    "torch.save(fixed_model_gpu.state_dict(),\"left_right_model_gpu\")\n",
    "torch.save(fixed_model2_gpu.state_dict(),\"open_closed_model_gpu\")"
   ]
  }
 ],
 "metadata": {
  "kernelspec": {
   "display_name": "Python 3",
   "language": "python",
   "name": "python3"
  },
  "language_info": {
   "codemirror_mode": {
    "name": "ipython",
    "version": 3
   },
   "file_extension": ".py",
   "mimetype": "text/x-python",
   "name": "python",
   "nbconvert_exporter": "python",
   "pygments_lexer": "ipython3",
   "version": "3.5.5"
  }
 },
 "nbformat": 4,
 "nbformat_minor": 2
}
